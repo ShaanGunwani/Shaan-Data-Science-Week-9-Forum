{
  "nbformat": 4,
  "nbformat_minor": 0,
  "metadata": {
    "colab": {
      "provenance": [],
      "authorship_tag": "ABX9TyMjtq5JhEMR2AFuM7CH5zTn",
      "include_colab_link": true
    },
    "kernelspec": {
      "name": "python3",
      "display_name": "Python 3"
    },
    "language_info": {
      "name": "python"
    }
  },
  "cells": [
    {
      "cell_type": "markdown",
      "metadata": {
        "id": "view-in-github",
        "colab_type": "text"
      },
      "source": [
        "<a href=\"https://colab.research.google.com/github/ShaanGunwani/Shaan-Data-Science-Week-9-Forum/blob/main/Shaan_Data_Science_Week_9_Forum_Diabetes.ipynb\" target=\"_parent\"><img src=\"https://colab.research.google.com/assets/colab-badge.svg\" alt=\"Open In Colab\"/></a>"
      ]
    },
    {
      "cell_type": "code",
      "execution_count": 1,
      "metadata": {
        "id": "HjQe0TSxGkwR"
      },
      "outputs": [],
      "source": [
        "from sklearn.model_selection import train_test_split\n",
        "from sklearn.metrics import davies_bouldin_score\n",
        "from sklearn.metrics import silhouette_score\n",
        "from sklearn.metrics import adjusted_rand_score\n",
        "from sklearn.metrics import calinski_harabasz_score\n",
        "import pandas as pd\n",
        "import numpy as np"
      ]
    },
    {
      "cell_type": "code",
      "source": [
        "from sklearn.datasets import load_diabetes\n",
        "\n",
        "# Load the Diabetes dataset\n",
        "diabetes = load_diabetes()\n",
        "\n",
        "# Create a DataFrame\n",
        "diabetes_df = pd.DataFrame(data=diabetes.data, columns=diabetes.feature_names)\n",
        "\n",
        "# Add the target variable (class) to the DataFrame\n",
        "diabetes_df['target'] = diabetes.target\n",
        "\n",
        "# True labels\n",
        "true_labels = diabetes.target\n",
        "\n",
        "# Display the DataFrame\n",
        "print(diabetes_df.head())"
      ],
      "metadata": {
        "colab": {
          "base_uri": "https://localhost:8080/"
        },
        "id": "OAV7omx9Gtxm",
        "outputId": "c72f7280-15ac-4883-f3c9-3180004d0eed"
      },
      "execution_count": 2,
      "outputs": [
        {
          "output_type": "stream",
          "name": "stdout",
          "text": [
            "        age       sex       bmi        bp        s1        s2        s3  \\\n",
            "0  0.038076  0.050680  0.061696  0.021872 -0.044223 -0.034821 -0.043401   \n",
            "1 -0.001882 -0.044642 -0.051474 -0.026328 -0.008449 -0.019163  0.074412   \n",
            "2  0.085299  0.050680  0.044451 -0.005670 -0.045599 -0.034194 -0.032356   \n",
            "3 -0.089063 -0.044642 -0.011595 -0.036656  0.012191  0.024991 -0.036038   \n",
            "4  0.005383 -0.044642 -0.036385  0.021872  0.003935  0.015596  0.008142   \n",
            "\n",
            "         s4        s5        s6  target  \n",
            "0 -0.002592  0.019907 -0.017646   151.0  \n",
            "1 -0.039493 -0.068332 -0.092204    75.0  \n",
            "2 -0.002592  0.002861 -0.025930   141.0  \n",
            "3  0.034309  0.022688 -0.009362   206.0  \n",
            "4 -0.002592 -0.031988 -0.046641   135.0  \n"
          ]
        }
      ]
    },
    {
      "cell_type": "code",
      "source": [
        "# Using KMean and Silhoutte score\n",
        "from sklearn.cluster import KMeans\n",
        "\n",
        "# Kmean\n",
        "kmeans = KMeans(n_clusters = 3, random_state = 20, n_init = \"auto\").fit(diabetes_df)\n",
        "\n",
        "# Getting labels\n",
        "kmeans_labels = kmeans.labels_\n",
        "\n",
        "# Calculating silhouette score\n",
        "silhouette_avg1 = silhouette_score(diabetes_df, kmeans_labels)\n",
        "\n",
        "# Calculating DBI\n",
        "dbi_score1 = davies_bouldin_score(diabetes_df, kmeans_labels)\n",
        "\n",
        "# Calcualting rand score\n",
        "rand_score1 = adjusted_rand_score(true_labels, kmeans_labels)\n",
        "\n",
        "# Calculating calinksi and harabasz score\n",
        "ch_score1 = calinski_harabasz_score(diabetes_df, kmeans_labels)\n",
        "\n",
        "print(\"KMean\")\n",
        "print(\"Silhouette Score:\", silhouette_avg1)\n",
        "print(\"Davies-Bouldin Index:\", dbi_score1)\n",
        "print(\"Rand Score:\", rand_score1)\n",
        "print(\"Calinski and Harabasz Score:\", ch_score1)"
      ],
      "metadata": {
        "colab": {
          "base_uri": "https://localhost:8080/"
        },
        "id": "2RO2idklGyYZ",
        "outputId": "19c17142-cd43-4bd0-bbd1-16279be9a42d"
      },
      "execution_count": 3,
      "outputs": [
        {
          "output_type": "stream",
          "name": "stdout",
          "text": [
            "KMean\n",
            "Silhouette Score: 0.6032574717082894\n",
            "Davies-Bouldin Index: 0.49319863195131347\n",
            "Rand Score: 0.014373871850659454\n",
            "Calinski and Harabasz Score: 1720.0891384905426\n"
          ]
        }
      ]
    },
    {
      "cell_type": "code",
      "source": [
        "# Using MeanShift and Davies bouldin index\n",
        "from sklearn.cluster import MeanShift\n",
        "\n",
        "# Mean shift\n",
        "mean_shift = MeanShift().fit(diabetes_df)\n",
        "\n",
        "# Getting labels\n",
        "mean_shift_labels = mean_shift.labels_\n",
        "\n",
        "# Calculating silhouette score\n",
        "silhouette_avg2 = silhouette_score(diabetes_df, mean_shift_labels)\n",
        "\n",
        "# Calculating DBI\n",
        "dbi_score2 = davies_bouldin_score(diabetes_df, mean_shift_labels)\n",
        "\n",
        "# Calcualting rand score\n",
        "rand_score2 = adjusted_rand_score(true_labels, mean_shift_labels)\n",
        "\n",
        "# Calculating calinksi and harabasz score\n",
        "ch_score2 = calinski_harabasz_score(diabetes_df, mean_shift_labels)\n",
        "\n",
        "print(\"Mean shift\")\n",
        "print(\"Silhouette Score:\", silhouette_avg2)\n",
        "print(\"Davies-Bouldin Index:\", dbi_score2)\n",
        "print(\"Rand Score:\", rand_score2)\n",
        "print(\"Calinski and Harabasz Score:\", ch_score2)"
      ],
      "metadata": {
        "colab": {
          "base_uri": "https://localhost:8080/"
        },
        "id": "5vRbsVqAG2I-",
        "outputId": "1d4dc473-0926-4ad9-eba2-51e8147a964d"
      },
      "execution_count": 4,
      "outputs": [
        {
          "output_type": "stream",
          "name": "stdout",
          "text": [
            "Mean shift\n",
            "Silhouette Score: 0.5846141063011262\n",
            "Davies-Bouldin Index: 0.5054796457754716\n",
            "Rand Score: 0.01458502610779577\n",
            "Calinski and Harabasz Score: 1607.3872409066034\n"
          ]
        }
      ]
    },
    {
      "cell_type": "code",
      "source": [
        "# Using agglomerative clustering and rand score\n",
        "from sklearn.cluster import AgglomerativeClustering\n",
        "\n",
        "# Agglomerative clustering\n",
        "agglomerative_clustering = AgglomerativeClustering(n_clusters = 3).fit(diabetes_df)\n",
        "\n",
        "# Getting clustered labels\n",
        "agglomerative_labels = agglomerative_clustering.labels_\n",
        "\n",
        "# Calculating silhouette score\n",
        "silhouette_avg3 = silhouette_score(diabetes_df, agglomerative_labels)\n",
        "\n",
        "# Calculating DBI\n",
        "dbi_score3 = davies_bouldin_score(diabetes_df, agglomerative_labels)\n",
        "\n",
        "# Calcualting rand score\n",
        "rand_score3 = adjusted_rand_score(true_labels, agglomerative_labels)\n",
        "\n",
        "# Calculating calinksi and harabasz score\n",
        "ch_score3 = calinski_harabasz_score(diabetes_df, agglomerative_labels)\n",
        "\n",
        "print(\"Agglomerative clustering\")\n",
        "print(\"Silhouette Score:\", silhouette_avg3)\n",
        "print(\"Davies-Bouldin Index:\", dbi_score3)\n",
        "print(\"Rand Score:\", rand_score3)\n",
        "print(\"Calinski and Harabasz Score:\", ch_score3)"
      ],
      "metadata": {
        "colab": {
          "base_uri": "https://localhost:8080/"
        },
        "id": "1wgflUWrG7us",
        "outputId": "36c8cee6-7588-4b28-8b39-fe0d86a275df"
      },
      "execution_count": 5,
      "outputs": [
        {
          "output_type": "stream",
          "name": "stdout",
          "text": [
            "Agglomerative clustering\n",
            "Silhouette Score: 0.5439283189634871\n",
            "Davies-Bouldin Index: 0.4787328114192006\n",
            "Rand Score: 0.009953764601743948\n",
            "Calinski and Harabasz Score: 1173.9037953940565\n"
          ]
        }
      ]
    },
    {
      "cell_type": "code",
      "source": [
        "# Using spectral clustering and calinski and harabasz score\n",
        "from sklearn.cluster import SpectralClustering\n",
        "\n",
        "# Spectral clustering\n",
        "spectral_clustering = SpectralClustering(n_clusters = 3,random_state = 20).fit(diabetes_df)\n",
        "\n",
        "# Getting labels\n",
        "spectral_labels = spectral_clustering.labels_\n",
        "\n",
        "# Calculating silhouette score\n",
        "silhouette_avg4 = silhouette_score(diabetes_df, spectral_labels)\n",
        "\n",
        "# Calculating DBI\n",
        "dbi_score4 = davies_bouldin_score(diabetes_df, spectral_labels)\n",
        "\n",
        "# Calcualting rand score\n",
        "rand_score4 = adjusted_rand_score(true_labels, spectral_labels)\n",
        "\n",
        "# Calculating calinksi and harabasz score\n",
        "ch_score4 = calinski_harabasz_score(diabetes_df, spectral_labels)\n",
        "\n",
        "print(\"Spectral clustering\")\n",
        "print(\"Silhouette Score:\", silhouette_avg4)\n",
        "print(\"Davies-Bouldin Index:\", dbi_score4)\n",
        "print(\"Rand Score:\", rand_score4)\n",
        "print(\"Calinski and Harabasz Score:\", ch_score4)"
      ],
      "metadata": {
        "colab": {
          "base_uri": "https://localhost:8080/"
        },
        "id": "XQ0rj-uMG-_C",
        "outputId": "a9b0265d-0eb5-4f0f-a4a1-7e60f4e6007e"
      },
      "execution_count": 6,
      "outputs": [
        {
          "output_type": "stream",
          "name": "stdout",
          "text": [
            "Spectral clustering\n",
            "Silhouette Score: 0.37002714205416143\n",
            "Davies-Bouldin Index: 0.38052155617568\n",
            "Rand Score: 0.00021143141355027764\n",
            "Calinski and Harabasz Score: 17.904196239696834\n"
          ]
        },
        {
          "output_type": "stream",
          "name": "stderr",
          "text": [
            "/usr/local/lib/python3.10/dist-packages/sklearn/manifold/_spectral_embedding.py:393: UserWarning: Exited at iteration 663 with accuracies \n",
            "[1.71674738e-13 2.93928557e-06 1.14962140e-05 4.80272510e-06]\n",
            "not reaching the requested tolerance 6.586313247680664e-06.\n",
            "Use iteration 662 instead with accuracy \n",
            "4.705956632647918e-06.\n",
            "\n",
            "  _, diffusion_map = lobpcg(\n",
            "/usr/local/lib/python3.10/dist-packages/sklearn/manifold/_spectral_embedding.py:393: UserWarning: Exited postprocessing with accuracies \n",
            "[7.67039967e-14 3.03374145e-06 4.78136767e-06 1.10087334e-05]\n",
            "not reaching the requested tolerance 6.586313247680664e-06.\n",
            "  _, diffusion_map = lobpcg(\n"
          ]
        }
      ]
    },
    {
      "cell_type": "code",
      "source": [],
      "metadata": {
        "id": "74Yd4dWbHI0F"
      },
      "execution_count": null,
      "outputs": []
    }
  ]
}